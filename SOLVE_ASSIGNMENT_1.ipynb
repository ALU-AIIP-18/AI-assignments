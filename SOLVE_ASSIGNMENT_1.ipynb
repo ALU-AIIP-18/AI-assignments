{
 "cells": [
  {
   "cell_type": "markdown",
   "metadata": {},
   "source": [
    "# Given an int count of a number of donuts, return a string\n",
    "# of the form 'Number of donuts: <count>', where <count> is the number\n",
    "# passed in. However, if the count is 10 or more, then use the word 'many'\n",
    "# instead of the actual count.\n",
    "# So donuts(5) returns 'Number of donuts: 5'\n",
    "# and donuts(23) returns 'Number of donuts: many"
   ]
  },
  {
   "cell_type": "code",
   "execution_count": 3,
   "metadata": {},
   "outputs": [],
   "source": [
    "def donuts(count):\n",
    "  if count < 10:\n",
    "    numberofdonuts = count\n",
    "  else:\n",
    "    numberofdonuts = 'many'\n",
    "  print(\"Number of donuts:\", str(numberofdonuts))"
   ]
  },
  {
   "cell_type": "markdown",
   "metadata": {},
   "source": [
    "# B. both_ends\n",
    "# Given a string s, return a string made of the first 2\n",
    "# and the last 2 chars of the original string,\n",
    "# so 'spring' yields 'spng'. However, if the string length\n",
    "# is less than 2, return instead the empty string.\n"
   ]
  },
  {
   "cell_type": "code",
   "execution_count": 28,
   "metadata": {},
   "outputs": [],
   "source": [
    "def both_ends(s):\n",
    "  if len(s) < 2:\n",
    "    return(\" \")\n",
    "  first2 = s[0:2]\n",
    "  last2 = s[-2:]\n",
    "  return(first2 + last2)"
   ]
  },
  {
   "cell_type": "markdown",
   "metadata": {},
   "source": [
    "# C. fix_start\n",
    "# Given a string s, return a string\n",
    "# where all occurences of its first char have\n",
    "# been changed to '*', except do not change\n",
    "# the first char itself.\n",
    "# e.g. 'babble' yields 'ba**le'\n",
    "# Assume that the string is length 1 or more.\n",
    "# Hint: s.replace(stra, strb) returns a version of string s\n",
    "# where all instances of stra have been replaced by strb."
   ]
  },
  {
   "cell_type": "code",
   "execution_count": 32,
   "metadata": {},
   "outputs": [],
   "source": [
    "def fix_start(s):\n",
    "  for x in range(len(s)):\n",
    "        if s[x]  == s[0]:\n",
    "            return s[0] + s[1:].replace(s[x], '*')\n",
    "  return s"
   ]
  },
  {
   "cell_type": "markdown",
   "metadata": {},
   "source": [
    "# D. MixUp\n",
    "# Given strings a and b, return a single string with a and b separated\n",
    "# by a space '<a> <b>', except swap the first 2 chars of each string.\n",
    "# e.g.\n",
    "#   'mix', pod' -> 'pox mid'\n",
    "#   'dog', 'dinner' -> 'dig donner'\n",
    "# Assume a and b are length 2 or more."
   ]
  },
  {
   "cell_type": "code",
   "execution_count": 37,
   "metadata": {},
   "outputs": [
    {
     "name": "stdout",
     "output_type": "stream",
     "text": [
      "Number of donuts: many\n",
      "None\n",
      "pox mid\n",
      "dig donner\n"
     ]
    }
   ],
   "source": [
    "def mix_up(a, b):\n",
    "  swapa, swapb = b[:2], a[:2]\n",
    "  return(swapa + a[2:] + \" \" + swapb + b[2:])\n",
    "  \n",
    "print(donuts(20))\n",
    "print(mix_up('mix','pod'))\n",
    "print(mix_up('dog','dinner'))"
   ]
  },
  {
   "cell_type": "code",
   "execution_count": 36,
   "metadata": {},
   "outputs": [
    {
     "name": "stdout",
     "output_type": "stream",
     "text": [
      "donuts\n",
      "Number of donuts: 4\n",
      "  X  got: None expected: 'Number of donuts: 4'\n",
      "Number of donuts: 9\n",
      "  X  got: None expected: 'Number of donuts: 9'\n",
      "Number of donuts: many\n",
      "  X  got: None expected: 'Number of donuts: many'\n",
      "Number of donuts: many\n",
      "  X  got: None expected: 'Number of donuts: many'\n",
      "\n",
      "both_ends\n",
      " OK  got: 'spng' expected: 'spng'\n",
      " OK  got: 'Helo' expected: 'Helo'\n",
      "  X  got: ' ' expected: ''\n",
      " OK  got: 'xyyz' expected: 'xyyz'\n",
      "\n",
      "fix_start\n",
      " OK  got: 'ba**le' expected: 'ba**le'\n",
      " OK  got: 'a*rdv*rk' expected: 'a*rdv*rk'\n",
      " OK  got: 'goo*le' expected: 'goo*le'\n",
      " OK  got: 'donut' expected: 'donut'\n",
      "\n",
      "mix_up\n",
      " OK  got: 'pox mid' expected: 'pox mid'\n",
      " OK  got: 'dig donner' expected: 'dig donner'\n",
      " OK  got: 'spash gnort' expected: 'spash gnort'\n",
      " OK  got: 'fizzy perm' expected: 'fizzy perm'\n"
     ]
    }
   ],
   "source": [
    "# Provided simple test() function used in main() to print\n",
    "# what each function returns vs. what it's supposed to return.\n",
    "def test(got, expected):\n",
    "    if got == expected:\n",
    "        prefix = ' OK '\n",
    "    else:\n",
    "        prefix = '  X '\n",
    "    print ('%s got: %s expected: %s' % (prefix, repr(got), repr(expected)))\n",
    "\n",
    "\n",
    "# Provided main() calls the above functions with interesting inputs,\n",
    "# using test() to check if each result is correct or not.\n",
    "def main():\n",
    "    print( 'donuts')\n",
    "  # Each line calls donuts, compares its result to the expected for that call.\n",
    "    test(donuts(4), 'Number of donuts: 4')\n",
    "    test(donuts(9), 'Number of donuts: 9')\n",
    "    test(donuts(10), 'Number of donuts: many')\n",
    "    test(donuts(99), 'Number of donuts: many')\n",
    "\n",
    "    print()\n",
    "    print ('both_ends')\n",
    "    test(both_ends('spring'), 'spng')\n",
    "    test(both_ends('Hello'), 'Helo')\n",
    "    test(both_ends('a'), '')\n",
    "    test(both_ends('xyz'), 'xyyz')\n",
    "\n",
    "\n",
    "    print()\n",
    "    print ('fix_start')\n",
    "    test(fix_start('babble'), 'ba**le')\n",
    "    test(fix_start('aardvark'), 'a*rdv*rk')\n",
    "    test(fix_start('google'), 'goo*le')\n",
    "    test(fix_start('donut'), 'donut')\n",
    "\n",
    "    print()\n",
    "    print ('mix_up')\n",
    "    test(mix_up('mix', 'pod'), 'pox mid')\n",
    "    test(mix_up('dog', 'dinner'), 'dig donner')\n",
    "    test(mix_up('gnash', 'sport'), 'spash gnort')\n",
    "    test(mix_up('pezzy', 'firm'), 'fizzy perm')\n",
    "\n",
    "\n",
    "# Standard boilerplate to call the main() function.\n",
    "if __name__ == '__main__':\n",
    "    main()\n"
   ]
  }
 ],
 "metadata": {
  "kernelspec": {
   "display_name": "Python 3",
   "language": "python",
   "name": "python3"
  },
  "language_info": {
   "codemirror_mode": {
    "name": "ipython",
    "version": 3
   },
   "file_extension": ".py",
   "mimetype": "text/x-python",
   "name": "python",
   "nbconvert_exporter": "python",
   "pygments_lexer": "ipython3",
   "version": "3.6.5"
  }
 },
 "nbformat": 4,
 "nbformat_minor": 2
}
