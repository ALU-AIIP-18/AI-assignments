{
 "cells": [
  {
   "cell_type": "markdown",
   "metadata": {},
   "source": [
    "Q no 1:  Write a python program to find number of occurrences of given number in a list with out using built-in methods\n",
    "**1 generate a list of some random num which is repeated again and again</h4>\n",
    "*2 take user input any number\n",
    "**3 find the number of occurrences of that num in your list\n",
    "**4 print some message to user with that result"
   ]
  },
  {
   "cell_type": "code",
   "execution_count": 1,
   "metadata": {},
   "outputs": [],
   "source": [
    "list=[4,3,6,5,7,3,4,5,6,5,4,3,2,3]"
   ]
  },
  {
   "cell_type": "code",
   "execution_count": 2,
   "metadata": {},
   "outputs": [
    {
     "name": "stdout",
     "output_type": "stream",
     "text": [
      "Enter an integer:7\n",
      "7\n"
     ]
    }
   ],
   "source": [
    "num =int(input(\"Enter an integer:\"))\n",
    "print(num)"
   ]
  },
  {
   "cell_type": "code",
   "execution_count": 48,
   "metadata": {},
   "outputs": [
    {
     "name": "stdout",
     "output_type": "stream",
     "text": [
      "Enter an integer:4\n",
      "Occurences : 3\n"
     ]
    }
   ],
   "source": [
    "list=[4,3,6,5,7,3,4,5,6,5,4,3,2,3]\n",
    "count=0\n",
    "num =int(input(\"Enter an integer:\"))\n",
    "for l in list:\n",
    "    if num == l:\n",
    "        count += 1\n",
    "print('Occurences : {}'.format(count))"
   ]
  },
  {
   "cell_type": "markdown",
   "metadata": {},
   "source": [
    "<h3>Q no 2:   [\"www.zframez.com\", \"www.wikipedia.org\", \"www.asp.net\", \"www.abcd.in\"]\n",
    "<br/><br/><br/><br/><br/>\n",
    "Write a python program to print website suffixes (com , org , net ,in) from this list\n",
    "</h3>"
   ]
  },
  {
   "cell_type": "code",
   "execution_count": 11,
   "metadata": {},
   "outputs": [
    {
     "name": "stdout",
     "output_type": "stream",
     "text": [
      "['com', 'org', 'net', 'in']\n"
     ]
    }
   ],
   "source": [
    "website=[\"www.zframez.com\",\"www.wikepedia.org\",\"www.asp.net\",\"www.abcd.in\"]\n",
    "web_suffix=[]\n",
    "for x in website:\n",
    "    web_suffix.append(x.split('.')[-1])\n",
    "print(web_suffix)"
   ]
  },
  {
   "cell_type": "markdown",
   "metadata": {},
   "source": [
    "<h3> Q no 3 : Write a program which can compute the factorial of a given numbers.</h3>\n",
    "<br/>\n",
    "<br/>\n",
    "<h4>**1 first take user input any number</h4>\n",
    "<h4>**2 calculate factorial of that input and then print the result to user</h4>"
   ]
  },
  {
   "cell_type": "code",
   "execution_count": 16,
   "metadata": {},
   "outputs": [
    {
     "name": "stdout",
     "output_type": "stream",
     "text": [
      "Enter any number:9\n",
      "9\n"
     ]
    }
   ],
   "source": [
    "num=int(input(\"Enter any number:\"))\n",
    "print(num)"
   ]
  },
  {
   "cell_type": "code",
   "execution_count": 40,
   "metadata": {},
   "outputs": [
    {
     "name": "stdout",
     "output_type": "stream",
     "text": [
      "Enter Number : 6\n",
      "Factorial = 720\n"
     ]
    }
   ],
   "source": [
    "fact = 1\n",
    "num = int(input('Enter Number : '))\n",
    "for x in range(1,num+1):\n",
    "    fact*= x\n",
    "print('Factorial = {}'.format(fact))"
   ]
  },
  {
   "cell_type": "markdown",
   "metadata": {},
   "source": [
    "<h3>Q 4 (a) :  If you could invite anyone, living or deceased, to dinner, who\n",
    "would you invite? Make a list that includes at least three people you’d like to\n",
    "invite to dinner. Then use your list to print a message to each person, inviting\n",
    "them to dinner.</h3>"
   ]
  },
  {
   "cell_type": "code",
   "execution_count": 19,
   "metadata": {},
   "outputs": [
    {
     "name": "stdout",
     "output_type": "stream",
     "text": [
      "['Marium', 'urooba', 'Sumbul', 'Amna']\n"
     ]
    }
   ],
   "source": [
    "invite_list=[\"Marium\",\"urooba\",\"Sumbul\",\"Amna\"]\n",
    "print(invite_list)"
   ]
  },
  {
   "cell_type": "code",
   "execution_count": 22,
   "metadata": {},
   "outputs": [
    {
     "name": "stdout",
     "output_type": "stream",
     "text": [
      "Dear Marium invited in dinner which held at 12-august\n",
      "Dear urooba invited in dinner which held at 12-august\n",
      "Dear Sumbul invited in dinner which held at 12-august\n",
      "Dear Amna invited in dinner which held at 12-august\n"
     ]
    }
   ],
   "source": [
    "for x in invite_list:\n",
    "    print(\"Dear \" + str(x)+ \" invited in dinner which held at 12-august\")"
   ]
  },
  {
   "cell_type": "markdown",
   "metadata": {},
   "source": [
    "<h3>Q 4 (b) : You just heard that one of your guests can’t make the\n",
    "dinner, so you need to send out a new set of invitations. You’ll have to think of\n",
    "someone else to invite.<br/></br><br/>\n",
    "•\t Start with your program from Q 4 (a). Add a print statement at the\n",
    "end of your program stating the name of the guest who can’t make it.<br/></br><br/>\n",
    "•\t Modify your list, replacing the name of the guest who can’t make it with\n",
    "the name of the new person you are inviting.<br/></br><br/>\n",
    "•\t Print a second set of invitation messages, one for each person who is still\n",
    "in your list.<br/></br><br/></h3>"
   ]
  },
  {
   "cell_type": "code",
   "execution_count": 37,
   "metadata": {},
   "outputs": [
    {
     "name": "stdout",
     "output_type": "stream",
     "text": [
      "Marium invited in dinner which held at 12-august\n",
      "urooba invited in dinner which held at 12-august\n",
      "sana invited in dinner which held at 12-august\n",
      "Amna invited in dinner which held at 12-august\n"
     ]
    }
   ],
   "source": [
    "people = [\"Marium\",\"urooba\",\"Sumbul\",\"Amna\"]\n",
    "people[2] = \"sana\"\n",
    "\n",
    "for p in people:\n",
    "    print('{} invited in dinner which held at 12-august'.format(p))"
   ]
  },
  {
   "cell_type": "markdown",
   "metadata": {},
   "source": [
    "Q 4 (c) : You just found a bigger dinner table, so now more space is\n",
    "available. Think of three more guests to invite to dinner.\n",
    "•\t Start with your program from Q 4 (a) and (b) Add a print\n",
    "statement to the end of your program informing people that you found a\n",
    "bigger dinner table.\n",
    "•\t Use insert() to add one new guest to the beginning of your list.\n",
    "•\t Use insert() to add one new guest to the middle of your list.\n",
    "•\t Use append() to add one new guest to the end of your list.\n",
    "•\t Print a new set of invitation messages, one for each person in your list."
   ]
  },
  {
   "cell_type": "code",
   "execution_count": 28,
   "metadata": {},
   "outputs": [
    {
     "name": "stdout",
     "output_type": "stream",
     "text": [
      "['areeba', 'Marium', 'saima', 'Sumbul', 'Amna']\n"
     ]
    }
   ],
   "source": [
    "invite_list.insert(0,\"areeba\")\n",
    "print(invite_list)"
   ]
  },
  {
   "cell_type": "code",
   "execution_count": 29,
   "metadata": {},
   "outputs": [
    {
     "name": "stdout",
     "output_type": "stream",
     "text": [
      "['areeba', 'Marium', 'saima', 'aliya', 'Sumbul', 'Amna']\n"
     ]
    }
   ],
   "source": [
    "invite_list.insert(3,\"aliya\")\n",
    "print(invite_list)"
   ]
  },
  {
   "cell_type": "code",
   "execution_count": 30,
   "metadata": {},
   "outputs": [
    {
     "name": "stdout",
     "output_type": "stream",
     "text": [
      "['areeba', 'Marium', 'saima', 'aliya', 'Sumbul', 'Amna', 'zubia']\n"
     ]
    }
   ],
   "source": [
    "invite_list.append(\"zubia\")\n",
    "print(invite_list)"
   ]
  },
  {
   "cell_type": "code",
   "execution_count": 31,
   "metadata": {},
   "outputs": [
    {
     "name": "stdout",
     "output_type": "stream",
     "text": [
      "Dear areeba invited in dinner which held at 12-august\n",
      "Dear Marium invited in dinner which held at 12-august\n",
      "Dear saima invited in dinner which held at 12-august\n",
      "Dear aliya invited in dinner which held at 12-august\n",
      "Dear Sumbul invited in dinner which held at 12-august\n",
      "Dear Amna invited in dinner which held at 12-august\n",
      "Dear zubia invited in dinner which held at 12-august\n"
     ]
    }
   ],
   "source": [
    "for x in invite_list:\n",
    "    print(\"Dear \" +str(x) + \" invited in dinner which held at 12-august\")"
   ]
  },
  {
   "cell_type": "markdown",
   "metadata": {},
   "source": [
    "<h5> Q 5 : Here you have some data in variable below, your task is to make a list of specific word Surah then print the list and length of list</h5>\n"
   ]
  },
  {
   "cell_type": "code",
   "execution_count": 32,
   "metadata": {},
   "outputs": [
    {
     "name": "stdout",
     "output_type": "stream",
     "text": [
      "['Sura', 'Sura', 'Sura']\n",
      "3\n"
     ]
    }
   ],
   "source": [
    "data = \"Sura I Who believe in the Unseen, Sura Are steadfast in prayer, And spend Sura out of what We Have provided for them;\"\n",
    "new_list=data.split()\n",
    "New=new_list[:]\n",
    "for x in New:\n",
    "    if x=='Sura':\n",
    "        continue\n",
    "    else:\n",
    "        new_list.remove(x)\n",
    "        continue\n",
    "print(new_list)        \n",
    "print(len(new_list))    \n",
    "\n"
   ]
  }
 ],
 "metadata": {
  "kernelspec": {
   "display_name": "Python 3",
   "language": "python",
   "name": "python3"
  },
  "language_info": {
   "codemirror_mode": {
    "name": "ipython",
    "version": 3
   },
   "file_extension": ".py",
   "mimetype": "text/x-python",
   "name": "python",
   "nbconvert_exporter": "python",
   "pygments_lexer": "ipython3",
   "version": "3.6.5"
  }
 },
 "nbformat": 4,
 "nbformat_minor": 2
}
